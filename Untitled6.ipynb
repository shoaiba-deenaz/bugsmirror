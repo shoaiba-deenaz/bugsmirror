{
  "nbformat": 4,
  "nbformat_minor": 0,
  "metadata": {
    "colab": {
      "provenance": [],
      "collapsed_sections": []
    },
    "kernelspec": {
      "name": "python3",
      "display_name": "Python 3"
    },
    "language_info": {
      "name": "python"
    }
  },
  "cells": [
    {
      "cell_type": "code",
      "execution_count": 1,
      "metadata": {
        "id": "WBHMmrmoHmL6"
      },
      "outputs": [],
      "source": [
        "import json\n",
        "from difflib import get_close_matches"
      ]
    },
    {
      "cell_type": "code",
      "source": [
        "words_data = json.load(open(\"/words.json\"))\n"
      ],
      "metadata": {
        "id": "hHYycdJ0NmNg"
      },
      "execution_count": 6,
      "outputs": []
    },
    {
      "cell_type": "code",
      "source": [
        "def word_meaning(word):\n",
        "  \n",
        "    word = word.lower()\n",
        "    \n",
        "    if word in words_data:\n",
        "        return words_data[word]\n",
        "      \n",
        "    elif word.title() in words_data:\n",
        "        return words_data[word.title()]\n",
        "      \n",
        "    elif word.upper() in words_data:\n",
        "        return words_data[word.upper()]\n",
        "      \n",
        "    elif len(get_close_matches(word, words_data.keys())) >0:\n",
        "      \n",
        "        similar_words_list = list(map(str, get_close_matches(word, words_data.keys())))\n",
        "        \n",
        "        ans = input(\"Did you mean %s instead? Enter 'Y' If yes or 'N' if No \" % similar_words_list)\n",
        "        \n",
        "        if ans.lower() == 'y':\n",
        "            index = input(\"Enter the position number of word to select the word. Ex 1 or 2 or 3 : \")\n",
        "            return word_meaning(get_close_matches(word, words_data.keys())[int(index)-1])\n",
        "        elif ans.lower() == 'n':\n",
        "            print(\"Word Doesnt exists. Please double check it!!!\")\n",
        "        else:\n",
        "            print(\"Sorry, We don't understand you!!!!\")\n",
        "    else:\n",
        "        print(\"Word Doesnt exists. Please double check it!!!\")"
      ],
      "metadata": {
        "id": "vqmAB-QMH53A"
      },
      "execution_count": 3,
      "outputs": []
    },
    {
      "cell_type": "code",
      "source": [
        "word = input(\"Enter a word :\")\n",
        "print(word_meaning(word))\n",
        "\n"
      ],
      "metadata": {
        "colab": {
          "base_uri": "https://localhost:8080/",
          "height": 0
        },
        "id": "9qtwAiFGPAPL",
        "outputId": "ed67d2da-add5-4efa-ee34-e300673afb8c"
      },
      "execution_count": 8,
      "outputs": [
        {
          "output_type": "stream",
          "name": "stdout",
          "text": [
            "Enter a word :dog\n",
            "['A common four-legged animal, especially kept by people as a pet or to hunt or guard things.', 'A dull, unattractive girl or woman.', 'An iron for holding wood in a fireplace.']\n"
          ]
        }
      ]
    }
  ]
}